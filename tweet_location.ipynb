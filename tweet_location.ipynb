{
 "cells": [
  {
   "cell_type": "markdown",
   "source": [
    "# Off-Platform Project: Classifying Tweets\n",
    "\n",
    "In this off-platform project, you will use a Naive Bayes Classifier to find patterns in real tweets. We've given you three files: `new_york.json`, `london.json`, and `paris.json`. These three files contain tweets that we gathered from those locations.\n",
    "\n",
    "The goal is to create a classification algorithm that can classify any tweet (or sentence) and predict whether that sentence came from New York, London, or Paris."
   ],
   "metadata": {}
  },
  {
   "cell_type": "markdown",
   "source": [
    "# Investigate the Data\r\n",
    "\r\n",
    "* The number of tweets.\r\n",
    "* The columns, or features, of a tweet.\r\n",
    "* The text of the 12th tweet in the New York dataset."
   ],
   "metadata": {}
  },
  {
   "cell_type": "code",
   "execution_count": 11,
   "source": [
    "import pandas as pd\r\n",
    "\r\n",
    "new_york_tweets = pd.read_json(\"new_york.json\", lines=True)\r\n",
    "print(len(new_york_tweets))\r\n",
    "print(new_york_tweets.columns)\r\n",
    "print(new_york_tweets.loc[12][\"text\"])"
   ],
   "outputs": [
    {
     "output_type": "stream",
     "name": "stdout",
     "text": [
      "4723\n",
      "Index(['contributors', 'coordinates', 'created_at', 'display_text_range',\n",
      "       'entities', 'extended_entities', 'extended_tweet', 'favorite_count',\n",
      "       'favorited', 'filter_level', 'geo', 'id', 'id_str',\n",
      "       'in_reply_to_screen_name', 'in_reply_to_status_id',\n",
      "       'in_reply_to_status_id_str', 'in_reply_to_user_id',\n",
      "       'in_reply_to_user_id_str', 'is_quote_status', 'lang', 'place',\n",
      "       'possibly_sensitive', 'quote_count', 'quoted_status',\n",
      "       'quoted_status_id', 'quoted_status_id_str', 'quoted_status_permalink',\n",
      "       'reply_count', 'retweet_count', 'retweeted', 'source', 'text',\n",
      "       'timestamp_ms', 'truncated', 'user', 'withheld_in_countries'],\n",
      "      dtype='object')\n",
      "Be best #ThursdayThoughts\n"
     ]
    }
   ],
   "metadata": {
    "scrolled": false
   }
  },
  {
   "cell_type": "markdown",
   "source": [
    "load the London and Paris tweets into DataFrames named `london_tweets` and `paris_tweets`.\r\n"
   ],
   "metadata": {}
  },
  {
   "cell_type": "code",
   "execution_count": 12,
   "source": [
    "london_tweets = pd.read_json(\"london.json\", lines=True)\r\n",
    "paris_tweets = pd.read_json(\"paris.json\", lines=True)\r\n",
    "print(len(london_tweets))\r\n",
    "print(len(paris_tweets))"
   ],
   "outputs": [
    {
     "output_type": "stream",
     "name": "stdout",
     "text": [
      "5341\n",
      "2510\n"
     ]
    }
   ],
   "metadata": {}
  },
  {
   "cell_type": "markdown",
   "source": [
    "# Classifying using language: Naive Bayes Classifier\r\n"
   ],
   "metadata": {}
  },
  {
   "cell_type": "code",
   "execution_count": 13,
   "source": [
    "new_york_text = new_york_tweets[\"text\"].tolist()\r\n",
    "london_text = london_tweets[\"text\"].tolist()\r\n",
    "paris_text = paris_tweets[\"text\"].tolist()\r\n",
    "\r\n",
    "all_tweets = new_york_text + london_text + paris_text\r\n",
    "labels = [0] * len(new_york_text) + [1] * len(london_text) + [2] * len(paris_text)"
   ],
   "outputs": [],
   "metadata": {}
  },
  {
   "cell_type": "markdown",
   "source": [
    "# Making a Training and Test Set\r\n",
    "\r\n",
    "\r\n",
    "1. The training data\r\n",
    "2. The testing data\r\n",
    "3. The training labels\r\n",
    "4. The testing labels"
   ],
   "metadata": {}
  },
  {
   "cell_type": "code",
   "execution_count": 14,
   "source": [
    "from sklearn.model_selection import train_test_split\r\n",
    "\r\n",
    "train_data, test_data, train_labels, test_labels = train_test_split(all_tweets, labels, test_size = 0.2, random_state = 1)\r\n",
    "print(len(train_data))\r\n",
    "print(len(test_data))"
   ],
   "outputs": [
    {
     "output_type": "stream",
     "name": "stdout",
     "text": [
      "10059\n",
      "2515\n"
     ]
    }
   ],
   "metadata": {}
  },
  {
   "cell_type": "markdown",
   "source": [
    "# Making the Count Vectors\r\n",
    "\r\n",
    "Naive Bayes Classifier\r\n",
    "lists of words into count vectors"
   ],
   "metadata": {}
  },
  {
   "cell_type": "code",
   "execution_count": 15,
   "source": [
    "from sklearn.feature_extraction.text import CountVectorizer\r\n",
    "\r\n",
    "counter = CountVectorizer()\r\n",
    "counter.fit(train_data)\r\n",
    "train_counts = counter.transform(train_data)\r\n",
    "test_counts = counter.transform(test_data)\r\n",
    "\r\n",
    "print(train_data[3])\r\n",
    "print(train_counts[3])\r\n"
   ],
   "outputs": [
    {
     "output_type": "stream",
     "name": "stdout",
     "text": [
      "saying bye is hard. Especially when youre saying bye to comfort.\n",
      "  (0, 5022)\t2\n",
      "  (0, 6371)\t1\n",
      "  (0, 9552)\t1\n",
      "  (0, 12314)\t1\n",
      "  (0, 13903)\t1\n",
      "  (0, 23994)\t2\n",
      "  (0, 27146)\t1\n",
      "  (0, 29397)\t1\n",
      "  (0, 30274)\t1\n"
     ]
    }
   ],
   "metadata": {}
  },
  {
   "cell_type": "markdown",
   "source": [
    "# Train and Test the Naive Bayes Classifier"
   ],
   "metadata": {}
  },
  {
   "cell_type": "code",
   "execution_count": 16,
   "source": [
    "from sklearn.naive_bayes import MultinomialNB\r\n",
    "\r\n",
    "classifier = MultinomialNB()\r\n",
    "classifier.fit(train_counts, train_labels)\r\n",
    "predictions = classifier.predict(test_counts)"
   ],
   "outputs": [],
   "metadata": {}
  },
  {
   "cell_type": "markdown",
   "source": [
    "# Evaluating Your Model\r\n"
   ],
   "metadata": {}
  },
  {
   "cell_type": "code",
   "execution_count": 17,
   "source": [
    "from sklearn.metrics import accuracy_score\r\n",
    "\r\n",
    "print(accuracy_score(test_labels, predictions))"
   ],
   "outputs": [
    {
     "output_type": "stream",
     "name": "stdout",
     "text": [
      "0.6779324055666004\n"
     ]
    }
   ],
   "metadata": {}
  },
  {
   "cell_type": "markdown",
   "source": [
    "**confusion matrix**\r\n"
   ],
   "metadata": {}
  },
  {
   "cell_type": "code",
   "execution_count": 18,
   "source": [
    "from sklearn.metrics import confusion_matrix\r\n",
    "\r\n",
    "print(confusion_matrix(test_labels, predictions))"
   ],
   "outputs": [
    {
     "output_type": "stream",
     "name": "stdout",
     "text": [
      "[[541 404  28]\n",
      " [203 824  34]\n",
      " [ 38 103 340]]\n"
     ]
    }
   ],
   "metadata": {}
  },
  {
   "cell_type": "markdown",
   "source": [
    "# Test the Tweet"
   ],
   "metadata": {}
  },
  {
   "cell_type": "code",
   "execution_count": 19,
   "source": [
    "tweet = \"The Statue of Liberty is beautiful\"\r\n",
    "tweet_counts = counter.transform([tweet])\r\n",
    "print(classifier.predict(tweet_counts))"
   ],
   "outputs": [
    {
     "output_type": "stream",
     "name": "stdout",
     "text": [
      "[0]\n"
     ]
    }
   ],
   "metadata": {}
  },
  {
   "cell_type": "code",
   "execution_count": null,
   "source": [],
   "outputs": [],
   "metadata": {}
  }
 ],
 "metadata": {
  "kernelspec": {
   "display_name": "Python 3",
   "language": "python",
   "name": "python3"
  },
  "language_info": {
   "codemirror_mode": {
    "name": "ipython",
    "version": 3
   },
   "file_extension": ".py",
   "mimetype": "text/x-python",
   "name": "python",
   "nbconvert_exporter": "python",
   "pygments_lexer": "ipython3",
   "version": "3.6.5"
  }
 },
 "nbformat": 4,
 "nbformat_minor": 2
}